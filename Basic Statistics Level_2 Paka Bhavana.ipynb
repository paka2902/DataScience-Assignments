{
 "cells": [
  {
   "cell_type": "code",
   "execution_count": 12,
   "id": "8bb1c350",
   "metadata": {},
   "outputs": [],
   "source": [
    "#Set 1 \n",
    "#Q1\n",
    "import numpy as np\n",
    "import pandas as pd\n",
    "import matplotlib.pyplot as plt\n",
    "import scipy\n",
    "from scipy import stats\n",
    "from scipy.stats import norm\n",
    "%matplotlib inline"
   ]
  },
  {
   "cell_type": "code",
   "execution_count": 38,
   "id": "28e58769",
   "metadata": {},
   "outputs": [],
   "source": [
    "X=['Allied Signal','Bankers Trust','General Mills','ITT Industries','J.P. Morgan & Co.','Lehman Brothers','Marriott','MCI','Merrill Lynch','Microsoft','Morgan Stanley','Sun Microsystems','Travelers','US Airways','Warner-Lambert']"
   ]
  },
  {
   "cell_type": "code",
   "execution_count": 39,
   "id": "aea5c12f",
   "metadata": {},
   "outputs": [],
   "source": [
    "Y=pd.Series([24.23,25.53,25.41,24.14,29.62,28.25,25.81,24.39,40.26,32.95,91.36,25.99,39.42,26.71,35.00])"
   ]
  },
  {
   "cell_type": "code",
   "execution_count": 40,
   "id": "80a4673d",
   "metadata": {},
   "outputs": [
    {
     "data": {
      "text/html": [
       "<div>\n",
       "<style scoped>\n",
       "    .dataframe tbody tr th:only-of-type {\n",
       "        vertical-align: middle;\n",
       "    }\n",
       "\n",
       "    .dataframe tbody tr th {\n",
       "        vertical-align: top;\n",
       "    }\n",
       "\n",
       "    .dataframe thead th {\n",
       "        text-align: right;\n",
       "    }\n",
       "</style>\n",
       "<table border=\"1\" class=\"dataframe\">\n",
       "  <thead>\n",
       "    <tr style=\"text-align: right;\">\n",
       "      <th></th>\n",
       "      <th>Name of company</th>\n",
       "      <th>Measure X</th>\n",
       "    </tr>\n",
       "  </thead>\n",
       "  <tbody>\n",
       "    <tr>\n",
       "      <th>0</th>\n",
       "      <td>Allied Signal</td>\n",
       "      <td>24.23</td>\n",
       "    </tr>\n",
       "    <tr>\n",
       "      <th>1</th>\n",
       "      <td>Bankers Trust</td>\n",
       "      <td>25.53</td>\n",
       "    </tr>\n",
       "    <tr>\n",
       "      <th>2</th>\n",
       "      <td>General Mills</td>\n",
       "      <td>25.41</td>\n",
       "    </tr>\n",
       "    <tr>\n",
       "      <th>3</th>\n",
       "      <td>ITT Industries</td>\n",
       "      <td>24.14</td>\n",
       "    </tr>\n",
       "    <tr>\n",
       "      <th>4</th>\n",
       "      <td>J.P. Morgan &amp; Co.</td>\n",
       "      <td>29.62</td>\n",
       "    </tr>\n",
       "    <tr>\n",
       "      <th>5</th>\n",
       "      <td>Lehman Brothers</td>\n",
       "      <td>28.25</td>\n",
       "    </tr>\n",
       "    <tr>\n",
       "      <th>6</th>\n",
       "      <td>Marriott</td>\n",
       "      <td>25.81</td>\n",
       "    </tr>\n",
       "    <tr>\n",
       "      <th>7</th>\n",
       "      <td>MCI</td>\n",
       "      <td>24.39</td>\n",
       "    </tr>\n",
       "    <tr>\n",
       "      <th>8</th>\n",
       "      <td>Merrill Lynch</td>\n",
       "      <td>40.26</td>\n",
       "    </tr>\n",
       "    <tr>\n",
       "      <th>9</th>\n",
       "      <td>Microsoft</td>\n",
       "      <td>32.95</td>\n",
       "    </tr>\n",
       "    <tr>\n",
       "      <th>10</th>\n",
       "      <td>Morgan Stanley</td>\n",
       "      <td>91.36</td>\n",
       "    </tr>\n",
       "    <tr>\n",
       "      <th>11</th>\n",
       "      <td>Sun Microsystems</td>\n",
       "      <td>25.99</td>\n",
       "    </tr>\n",
       "    <tr>\n",
       "      <th>12</th>\n",
       "      <td>Travelers</td>\n",
       "      <td>39.42</td>\n",
       "    </tr>\n",
       "    <tr>\n",
       "      <th>13</th>\n",
       "      <td>US Airways</td>\n",
       "      <td>26.71</td>\n",
       "    </tr>\n",
       "    <tr>\n",
       "      <th>14</th>\n",
       "      <td>Warner-Lambert</td>\n",
       "      <td>35.00</td>\n",
       "    </tr>\n",
       "  </tbody>\n",
       "</table>\n",
       "</div>"
      ],
      "text/plain": [
       "      Name of company  Measure X\n",
       "0       Allied Signal      24.23\n",
       "1       Bankers Trust      25.53\n",
       "2       General Mills      25.41\n",
       "3      ITT Industries      24.14\n",
       "4   J.P. Morgan & Co.      29.62\n",
       "5     Lehman Brothers      28.25\n",
       "6            Marriott      25.81\n",
       "7                 MCI      24.39\n",
       "8       Merrill Lynch      40.26\n",
       "9           Microsoft      32.95\n",
       "10     Morgan Stanley      91.36\n",
       "11   Sun Microsystems      25.99\n",
       "12          Travelers      39.42\n",
       "13         US Airways      26.71\n",
       "14     Warner-Lambert      35.00"
      ]
     },
     "execution_count": 40,
     "metadata": {},
     "output_type": "execute_result"
    }
   ],
   "source": [
    "df = pd.DataFrame(list(zip(X,Y)), columns =['Name of company', 'Measure X'])\n",
    "df"
   ]
  },
  {
   "cell_type": "code",
   "execution_count": 41,
   "id": "af278867",
   "metadata": {},
   "outputs": [
    {
     "data": {
      "text/plain": [
       "{'whiskers': [<matplotlib.lines.Line2D at 0x7f89d91857c0>,\n",
       "  <matplotlib.lines.Line2D at 0x7f89d9185a90>],\n",
       " 'caps': [<matplotlib.lines.Line2D at 0x7f89d9185d60>,\n",
       "  <matplotlib.lines.Line2D at 0x7f89d9196070>],\n",
       " 'boxes': [<matplotlib.lines.Line2D at 0x7f89d91854f0>],\n",
       " 'medians': [<matplotlib.lines.Line2D at 0x7f89d9196340>],\n",
       " 'fliers': [<matplotlib.lines.Line2D at 0x7f89d9196610>],\n",
       " 'means': []}"
      ]
     },
     "execution_count": 41,
     "metadata": {},
     "output_type": "execute_result"
    },
    {
     "data": {
      "image/png": "[encoded data removed]",
      "text/plain": [
       "<Figure size 640x480 with 1 Axes>"
      ]
     },
     "metadata": {},
     "output_type": "display_data"
    }
   ],
   "source": [
    "plt.boxplot(df['Measure X'])"
   ]
  },
  {
   "cell_type": "code",
   "execution_count": 49,
   "id": "fe02db1b",
   "metadata": {},
   "outputs": [
    {
     "data": {
      "text/plain": [
       "count    15.000000\n",
       "mean     33.271333\n",
       "std      16.945401\n",
       "min      24.140000\n",
       "25%      25.470000\n",
       "50%      26.710000\n",
       "75%      33.975000\n",
       "max      91.360000\n",
       "Name: Measure X, dtype: float64"
      ]
     },
     "execution_count": 49,
     "metadata": {},
     "output_type": "execute_result"
    }
   ],
   "source": [
    "df['Measure X'].describe()"
   ]
  },
  {
   "cell_type": "code",
   "execution_count": 47,
   "id": "6db28899",
   "metadata": {
    "scrolled": true
   },
   "outputs": [
    {
     "data": {
      "image/png": "[encoded data removed]",
      "text/plain": [
       "<Figure size 1800x900 with 1 Axes>"
      ]
     },
     "metadata": {},
     "output_type": "display_data"
    }
   ],
   "source": [
    "#pie plot\n",
    "plt.figure(figsize=(18,9))\n",
    "plt.pie(Y,labels= X,autopct='%1.1f%%', shadow=True)\n",
    "plt.title('Name of the company with respect to Measure X',fontsize=20,color='red')\n",
    "\n",
    "plt.show()"
   ]
  },
  {
   "cell_type": "code",
   "execution_count": 45,
   "id": "65610dc2",
   "metadata": {},
   "outputs": [
    {
     "data": {
      "text/plain": [
       "33.27133333333333"
      ]
     },
     "execution_count": 45,
     "metadata": {},
     "output_type": "execute_result"
    }
   ],
   "source": [
    "Y.mean()"
   ]
  },
  {
   "cell_type": "code",
   "execution_count": 50,
   "id": "568288cc",
   "metadata": {},
   "outputs": [
    {
     "data": {
      "text/plain": [
       "16.945400921222028"
      ]
     },
     "execution_count": 50,
     "metadata": {},
     "output_type": "execute_result"
    }
   ],
   "source": [
    "Y.std()"
   ]
  },
  {
   "cell_type": "code",
   "execution_count": 51,
   "id": "336ab535",
   "metadata": {},
   "outputs": [
    {
     "data": {
      "text/plain": [
       "287.1466123809524"
      ]
     },
     "execution_count": 51,
     "metadata": {},
     "output_type": "execute_result"
    }
   ],
   "source": [
    "Y.var()"
   ]
  },
  {
   "cell_type": "code",
   "execution_count": 52,
   "id": "5b8491c9",
   "metadata": {},
   "outputs": [],
   "source": [
    "#Set 2 Q1\n",
    "\n",
    "from scipy import stats\n",
    "import scipy.stats as stats\n",
    "import statistics as st\n",
    "import pandas as pd\n",
    "import numpy as np"
   ]
  },
  {
   "cell_type": "code",
   "execution_count": 53,
   "id": "9985d3a7",
   "metadata": {},
   "outputs": [
    {
     "name": "stdout",
     "output_type": "stream",
     "text": [
      "Z is: 0.625\n"
     ]
    },
    {
     "data": {
      "text/plain": [
       "0.7340144709512995"
      ]
     },
     "execution_count": 53,
     "metadata": {},
     "output_type": "execute_result"
    }
   ],
   "source": [
    "mean=45+10\n",
    "X=60\n",
    "STD=8\n",
    "Z=(X-mean)/STD\n",
    "print(\"Z is:\",Z)\n",
    "stats.norm.cdf(Z)\n"
   ]
  },
  {
   "cell_type": "code",
   "execution_count": 54,
   "id": "f09f16fd",
   "metadata": {},
   "outputs": [
    {
     "data": {
      "text/plain": [
       "0.26598552904870054"
      ]
     },
     "execution_count": 54,
     "metadata": {},
     "output_type": "execute_result"
    }
   ],
   "source": [
    "#probability that the service manager cannot meet his commitment\n",
    "1-stats.norm.cdf(Z)"
   ]
  },
  {
   "cell_type": "code",
   "execution_count": 67,
   "id": "214c6714",
   "metadata": {},
   "outputs": [],
   "source": [
    "# Set 2 Q2A\n",
    "# More employees at the processing center are older than 44 than between 38 and 44.\n",
    "Mean_age=38\n",
    "Std_age=6\n",
    "#Z Score=(Value-Mean_age)/(Std_age)\n",
    "#Z for above 44:\n",
    "Z44=(44-Mean_age)/Std_age\n",
    "z44people=stats.norm.cdf(Z44)\n"
   ]
  },
  {
   "cell_type": "code",
   "execution_count": 68,
   "id": "73e88c19",
   "metadata": {},
   "outputs": [
    {
     "name": "stdout",
     "output_type": "stream",
     "text": [
      "People above 44 age: 63.0\n"
     ]
    },
    {
     "data": {
      "text/plain": [
       "64.0"
      ]
     },
     "execution_count": 68,
     "metadata": {},
     "output_type": "execute_result"
    }
   ],
   "source": [
    "#People above 44 age:\n",
    "print('People above 44 age:',round((1-z44p)*400,0))\n",
    "#People above 44 age:\n",
    "round((1-z44people),2)*400\n"
   ]
  },
  {
   "cell_type": "code",
   "execution_count": 69,
   "id": "8fd684c8",
   "metadata": {},
   "outputs": [
    {
     "name": "stdout",
     "output_type": "stream",
     "text": [
      "People between 38 and 44 age: 137.0\n"
     ]
    }
   ],
   "source": [
    "#people between 38 and 44 age:\n",
    "Z38=(38-Mean_age)/Std_age\n",
    "z38people=stats.norm.cdf(Z38)\n",
    "Z44_z38=round((z44people-z38people)*400,0)\n",
    "print('People between 38 and 44 age:',Z44_z38)"
   ]
  },
  {
   "cell_type": "code",
   "execution_count": 70,
   "id": "62144653",
   "metadata": {},
   "outputs": [
    {
     "data": {
      "text/plain": [
       "36.0"
      ]
     },
     "execution_count": 70,
     "metadata": {},
     "output_type": "execute_result"
    }
   ],
   "source": [
    "# Set 2 Q2B\n",
    "# B. A training program for employees under the age of 30 at the center \n",
    "# would be expected to attract about 36 employees.\n",
    "z30=(30-Mean_age)/Std_age\n",
    "z30p=stats.norm.cdf(z30)\n",
    "#employees under the age of 30 at the center\n",
    "round(z30p*400,0)"
   ]
  },
  {
   "cell_type": "code",
   "execution_count": 72,
   "id": "6c1b1284",
   "metadata": {},
   "outputs": [
    {
     "name": "stdout",
     "output_type": "stream",
     "text": [
      "Values of a and b are: (48.48341392902199, 151.516586070978)\n"
     ]
    }
   ],
   "source": [
    "#Set 2 Q4\n",
    "Mean_rv=100\n",
    "std_rv=20\n",
    "p_outside=0.99\n",
    "Interval=stats.norm.interval(0.99,Mean_rv,std_rv)\n",
    "print(\"Values of a and b are:\",Interval)"
   ]
  },
  {
   "cell_type": "code",
   "execution_count": 76,
   "id": "269d3c95",
   "metadata": {},
   "outputs": [
    {
     "name": "stdout",
     "output_type": "stream",
     "text": [
      "Mean of division1 in $: 225 Million\n",
      "Mean of division2 in $: 315 Million\n"
     ]
    }
   ],
   "source": [
    "#Set 2 Q5A\n",
    "mean1=5*45\n",
    "print(\"Mean of division1 in $:\",mean1,\"Million\")\n",
    "std1=3\n",
    "mean2=7*45\n",
    "print(\"Mean of division2 in $:\",mean2,\"Million\")\n",
    "std2=4\n"
   ]
  },
  {
   "cell_type": "code",
   "execution_count": 80,
   "id": "ba19b312",
   "metadata": {},
   "outputs": [
    {
     "name": "stdout",
     "output_type": "stream",
     "text": [
      "The mean of the company in Million$ is: 540\n",
      "The standard deviation of the company in Million$ is: 225.0\n",
      "Rupee range : (99.00810347848784, 980.9918965215122) in Million$\n"
     ]
    }
   ],
   "source": [
    "mean_company=mean1+mean2\n",
    "std_company=np.sqrt(9+16)*45\n",
    "rupee_range=stats.norm.interval(0.95,mean_company,std_company)\n",
    "print(\"The mean of the company in Million$ is:\",mean_company)\n",
    "print(\"The standard deviation of the company in Million$ is:\",std_company)\n",
    "print(\"Rupee range :\",rupee_range,\"in Million$\")"
   ]
  },
  {
   "cell_type": "code",
   "execution_count": 82,
   "id": "55395c83",
   "metadata": {},
   "outputs": [
    {
     "name": "stdout",
     "output_type": "stream",
     "text": [
      "5th percentile of profit (in Rupees) for the company in Million$: 169.9079339359186\n"
     ]
    }
   ],
   "source": [
    "#Set 2 Q5B\n",
    "from numpy.lib.function_base import percentile\n",
    "z_5=stats.norm.ppf(0.05)\n",
    "z_5\n",
    "X=(z_5*std_company)+mean_company\n",
    "print(\"5th percentile of profit (in Rupees) for the company in Million$:\",X)"
   ]
  },
  {
   "cell_type": "code",
   "execution_count": 84,
   "id": "855d2b6f",
   "metadata": {},
   "outputs": [
    {
     "name": "stdout",
     "output_type": "stream",
     "text": [
      "probability of making loss by division 1: 0.0477903522728147\n",
      "probability of making loss by division 2: 0.040059156863817086\n"
     ]
    }
   ],
   "source": [
    "#Set 2 Q5C\n",
    "probability_loss1=stats.norm.cdf(0,5,3)\n",
    "probability_loss2=stats.norm.cdf(0,7,4)\n",
    "print(\"probability of making loss by division 1:\",probability_loss1)\n",
    "print(\"probability of making loss by division 2:\",probability_loss2)"
   ]
  },
  {
   "cell_type": "code",
   "execution_count": 88,
   "id": "2bb953f4",
   "metadata": {},
   "outputs": [
    {
     "name": "stdout",
     "output_type": "stream",
     "text": [
      "z_score: -0.820782681668124\n",
      "p_value: 0.20588503245107104\n"
     ]
    }
   ],
   "source": [
    "#Set 3 Q5 I\n",
    "import numpy as np\n",
    "import scipy.stats as stats\n",
    "p=0.05\n",
    "q=1-p\n",
    "alpha=0.05\n",
    "phat=0.046\n",
    "n=2000\n",
    "z_score=(phat-p)/(np.sqrt(p*q/n))\n",
    "print(\"z_score:\",z_score)\n",
    "p_value=1-stats.norm.cdf(abs(z_score))#since H0=>5% so we need to do 1-probabiliy of <5%\n",
    "print(\"p_value:\",p_value)\n"
   ]
  },
  {
   "cell_type": "code",
   "execution_count": 87,
   "id": "b93b3b76",
   "metadata": {},
   "outputs": [
    {
     "name": "stdout",
     "output_type": "stream",
     "text": [
      "Go with Null hypothesis:Mozilla has 5% or more share\n"
     ]
    }
   ],
   "source": [
    "if(p_value<alpha):\n",
    "  print(\"Go with Alternate hypothesis:Mozilla has less than 5% share\")\n",
    "else:print(\"Go with Null hypothesis:Mozilla has 5% or more share\")"
   ]
  },
  {
   "cell_type": "code",
   "execution_count": 91,
   "id": "cfd62736",
   "metadata": {},
   "outputs": [
    {
     "name": "stdout",
     "output_type": "stream",
     "text": [
      "1.6448536269514722\n",
      "1.8331129326536335\n",
      "1.6991270265334972\n"
     ]
    }
   ],
   "source": [
    "#Set 3 Q7\n",
    "\n",
    "z_value=stats.norm.ppf(0.95)\n",
    "#let df=9 & 29\n",
    "t_value1=stats.t.ppf(0.95,9)\n",
    "t_value2=stats.t.ppf(0.95,29)\n",
    "print(z_value)\n",
    "print(t_value1)\n",
    "print(t_value2)"
   ]
  },
  {
   "cell_type": "code",
   "execution_count": 89,
   "id": "05762e71",
   "metadata": {},
   "outputs": [
    {
     "data": {
      "text/plain": [
       "600"
      ]
     },
     "execution_count": 89,
     "metadata": {},
     "output_type": "execute_result"
    }
   ],
   "source": [
    "#Set 3 Q8\n",
    "import math as mth\n",
    "phat=0.5\n",
    "q=0.5\n",
    "CI=0.95\n",
    "alpha=1-CI\n",
    "z_value=stats.norm.ppf(alpha/2)\n",
    "z_value\n",
    "n=(((z_value)**2)*0.5*0.5/(0.04)**2)\n",
    "round(n)"
   ]
  },
  {
   "cell_type": "code",
   "execution_count": 90,
   "id": "14666a97",
   "metadata": {},
   "outputs": [
    {
     "data": {
      "text/plain": [
       "846"
      ]
     },
     "execution_count": 90,
     "metadata": {},
     "output_type": "execute_result"
    }
   ],
   "source": [
    "#Set 3 Q9\n",
    "import math as mth\n",
    "phat=0.5\n",
    "q=0.5\n",
    "CI=0.98\n",
    "alpha2=1-CI\n",
    "z_value2=stats.norm.ppf((alpha2)/2)\n",
    "z_value2\n",
    "n=(((z_value2)**2)*0.5*0.5/(0.04)**2)\n",
    "round(n)"
   ]
  },
  {
   "cell_type": "code",
   "execution_count": 92,
   "id": "0c6dc486",
   "metadata": {},
   "outputs": [],
   "source": [
    " #Set 4 Q3\n",
    "import numpy as np\n",
    "import scipy.stats as stats\n",
    "XAverage=50\n",
    "STD_SAMPLE=40\n",
    "n=100\n",
    "mu1=45\n",
    "mu2=55\n",
    "df=n-1\n",
    "alpha=0.05"
   ]
  },
  {
   "cell_type": "code",
   "execution_count": 93,
   "id": "07b7dd05",
   "metadata": {},
   "outputs": [
    {
     "name": "stdout",
     "output_type": "stream",
     "text": [
      "t_value1: -1.25\n",
      "t_value2: 1.25\n",
      "probability1: 0.8943502263331446\n",
      "probability2: 0.8943502263331446\n",
      "probability between 45$ and 55$: 0.0\n",
      "Accept Alternate hypothesis,so There will be a chance of an investigation\n"
     ]
    }
   ],
   "source": [
    "t_value1=(mu1 - XAverage)/((STD_SAMPLE)/np.sqrt(n))\n",
    "t_value2=(mu2 - XAverage)/((STD_SAMPLE)/np.sqrt(n))\n",
    "print(\"t_value1:\", t_value1)\n",
    "print(\"t_value2:\", t_value2)\n",
    "probability1=stats.norm.cdf(t_value2)\n",
    "probability2=stats.norm.cdf(t_value2)\n",
    "print(\"probability1:\",probability1)\n",
    "print(\"probability2:\",probability2)\n",
    "p=probability2-probability1\n",
    "print(\"probability between 45$ and 55$:\",p)\n",
    "if p<=alpha:\n",
    "  print(\"Accept Alternate hypothesis,so There will be a chance of an investigation\")\n",
    "else:\n",
    "  print(\"Reject Alternate hypothesis, so There will not be a chance of an investigation\")"
   ]
  },
  {
   "cell_type": "code",
   "execution_count": 94,
   "id": "437d6ed0",
   "metadata": {},
   "outputs": [
    {
     "name": "stdout",
     "output_type": "stream",
     "text": [
      "245.86240000000006\n"
     ]
    }
   ],
   "source": [
    "#Set 4 Q4\n",
    "t_value=stats.t.ppf((1-0.05/2),99)\n",
    "t_value\n",
    "n=(40*1.96)**2/25\n",
    "print(n)"
   ]
  },
  {
   "cell_type": "code",
   "execution_count": 95,
   "id": "320bef98",
   "metadata": {},
   "outputs": [
    {
     "name": "stdout",
     "output_type": "stream",
     "text": [
      "0.6\n"
     ]
    }
   ],
   "source": [
    "#Set 4 Q5\n",
    "X_avg=720\n",
    "STD_samp=120\n",
    "n=40000\n",
    "#Standard_deviation_of_the_mean_across_several_samples is Standard_Error\n",
    "Standard_Error=STD_samp/np.sqrt(n)\n",
    "print(Standard_Error)"
   ]
  }
 ],
 "metadata": {
  "kernelspec": {
   "display_name": "Python 3 (ipykernel)",
   "language": "python",
   "name": "python3"
  },
  "language_info": {
   "codemirror_mode": {
    "name": "ipython",
    "version": 3
   },
   "file_extension": ".py",
   "mimetype": "text/x-python",
   "name": "python",
   "nbconvert_exporter": "python",
   "pygments_lexer": "ipython3",
   "version": "3.9.13"
  }
 },
 "nbformat": 4,
 "nbformat_minor": 5
}
